{
 "cells": [
  {
   "cell_type": "markdown",
   "metadata": {},
   "source": [
    "# Configure CSR router Loopback description using NETCONF (ncclient)"
   ]
  },
  {
   "cell_type": "code",
   "execution_count": 239,
   "metadata": {},
   "outputs": [],
   "source": [
    "import ncclient.manager\n",
    "from ncclient.operations import TimeoutExpiredError\n",
    "import xml.dom.minidom\n",
    "from ncclient import xml_"
   ]
  },
  {
   "cell_type": "code",
   "execution_count": 240,
   "metadata": {},
   "outputs": [
    {
     "name": "stdout",
     "output_type": "stream",
     "text": [
      "Connected to the device!\n"
     ]
    }
   ],
   "source": [
    "try:\n",
    "    device_connection = ncclient.manager.connect(\n",
    "        host = '10.10.20.48',\n",
    "        username = 'developer',\n",
    "        password = 'C1sco12345',\n",
    "        port = '830',\n",
    "        device_params = {'name':\"iosxe\"}\n",
    "    )\n",
    "    print(\"Connected to the device!\")\n",
    "except:\n",
    "    print(\"Failure...\")"
   ]
  },
  {
   "cell_type": "code",
   "execution_count": 283,
   "metadata": {},
   "outputs": [
    {
     "name": "stdout",
     "output_type": "stream",
     "text": [
      "<?xml version=\"1.0\" encoding=\"UTF-8\"?>\n",
      "<rpc-reply xmlns=\"urn:ietf:params:xml:ns:netconf:base:1.0\" message-id=\"urn:uuid:54de9494-b7c6-495b-9a98-85da1d08e70c\" xmlns:nc=\"urn:ietf:params:xml:ns:netconf:base:1.0\"><ok/></rpc-reply>\n"
     ]
    }
   ],
   "source": [
    "config_edit = ''' \n",
    "<config xmlns:nc=\"urn:ietf:params:xml:ns:netconf:base:1.0\" xmlns:ios=\"http://cisco.com/ns/yang/Cisco-IOS-XE-native\">\n",
    "      <ios:native>\n",
    "        <ios:interface>\n",
    "          <ios:Loopback>\n",
    "            <ios:name>109</ios:name>\n",
    "            <ios:description>Configured by Martim Tavares</ios:description>\n",
    "          </ios:Loopback>\n",
    "        </ios:interface>\n",
    "      </ios:native>\n",
    "    </config>\n",
    "'''\n",
    "\n",
    "\n",
    "netconf_output = device_connection.edit_config(target = \"running\", config = config_edit, default_operation=\"merge\")\n",
    "#netconf_output = device_connection.get_config(source=\"running\", filter=(\"subtree\", config_edit))\n",
    "\n",
    "print(netconf_output)"
   ]
  },
  {
   "cell_type": "markdown",
   "metadata": {},
   "source": [
    "# Check configuration using RestConf"
   ]
  },
  {
   "cell_type": "markdown",
   "metadata": {},
   "source": [
    "Although the code below did not work as expected in the jupyter notebook, we I ran the python script on my terminal, it successfuly received the expected RPC reply. This is shown and prooved in the video in this directory (**restconf.mp4**). The expected output was the interface Loopback 109 to have its description changed to \"Configured by Martim Tavares\""
   ]
  },
  {
   "cell_type": "markdown",
   "metadata": {},
   "source": [
    "<video width=\"640\" height=\"360\" controls>\n",
    "  <source src=\"restconf.mp4\" type=\"video/mp4\">\n",
    "  Your browser does not support the video tag.\n",
    "</video>"
   ]
  },
  {
   "cell_type": "code",
   "execution_count": 289,
   "metadata": {},
   "outputs": [
    {
     "ename": "ImportError",
     "evalue": "cannot import name 'ProxySchemeUnsupported' from 'urllib3.exceptions' (/opt/homebrew/lib/python3.11/site-packages/urllib3/exceptions.py)",
     "output_type": "error",
     "traceback": [
      "\u001b[0;31m---------------------------------------------------------------------------\u001b[0m",
      "\u001b[0;31mImportError\u001b[0m                               Traceback (most recent call last)",
      "Cell \u001b[0;32mIn[289], line 1\u001b[0m\n\u001b[0;32m----> 1\u001b[0m \u001b[38;5;28;01mimport\u001b[39;00m \u001b[38;5;21;01mrequests\u001b[39;00m\n\u001b[1;32m      2\u001b[0m url \u001b[38;5;241m=\u001b[39m \u001b[38;5;124m\"\u001b[39m\u001b[38;5;124mhttps://10.10.20.48:443/restconf/data/Cisco-IOS-XE-native:native/interface/Loopback/\u001b[39m\u001b[38;5;124m\"\u001b[39m\n\u001b[1;32m      3\u001b[0m headers \u001b[38;5;241m=\u001b[39m {\u001b[38;5;124m'\u001b[39m\u001b[38;5;124mContent-Type\u001b[39m\u001b[38;5;124m'\u001b[39m: \u001b[38;5;124m'\u001b[39m\u001b[38;5;124mapplication/yang-data+json\u001b[39m\u001b[38;5;124m'\u001b[39m, \u001b[38;5;124m'\u001b[39m\u001b[38;5;124mAccept\u001b[39m\u001b[38;5;124m'\u001b[39m: \u001b[38;5;124m'\u001b[39m\u001b[38;5;124mapplication/yang-data+json\u001b[39m\u001b[38;5;124m'\u001b[39m} \n",
      "File \u001b[0;32m/opt/homebrew/lib/python3.11/site-packages/requests/__init__.py:43\u001b[0m\n\u001b[1;32m      6\u001b[0m \u001b[38;5;124;03m\"\"\"\u001b[39;00m\n\u001b[1;32m      7\u001b[0m \u001b[38;5;124;03mRequests HTTP Library\u001b[39;00m\n\u001b[1;32m      8\u001b[0m \u001b[38;5;124;03m~~~~~~~~~~~~~~~~~~~~~\u001b[39;00m\n\u001b[0;32m   (...)\u001b[0m\n\u001b[1;32m     38\u001b[0m \u001b[38;5;124;03m:license: Apache 2.0, see LICENSE for more details.\u001b[39;00m\n\u001b[1;32m     39\u001b[0m \u001b[38;5;124;03m\"\"\"\u001b[39;00m\n\u001b[1;32m     41\u001b[0m \u001b[38;5;28;01mimport\u001b[39;00m \u001b[38;5;21;01mwarnings\u001b[39;00m\n\u001b[0;32m---> 43\u001b[0m \u001b[38;5;28;01mimport\u001b[39;00m \u001b[38;5;21;01murllib3\u001b[39;00m\n\u001b[1;32m     45\u001b[0m \u001b[38;5;28;01mfrom\u001b[39;00m \u001b[38;5;21;01m.\u001b[39;00m\u001b[38;5;21;01mexceptions\u001b[39;00m \u001b[38;5;28;01mimport\u001b[39;00m RequestsDependencyWarning\n\u001b[1;32m     47\u001b[0m \u001b[38;5;28;01mtry\u001b[39;00m:\n",
      "File \u001b[0;32m/opt/homebrew/lib/python3.11/site-packages/urllib3/__init__.py:14\u001b[0m\n\u001b[1;32m     11\u001b[0m \u001b[38;5;28;01mfrom\u001b[39;00m \u001b[38;5;21;01mlogging\u001b[39;00m \u001b[38;5;28;01mimport\u001b[39;00m NullHandler\n\u001b[1;32m     13\u001b[0m \u001b[38;5;28;01mfrom\u001b[39;00m \u001b[38;5;21;01m.\u001b[39;00m \u001b[38;5;28;01mimport\u001b[39;00m exceptions\n\u001b[0;32m---> 14\u001b[0m \u001b[38;5;28;01mfrom\u001b[39;00m \u001b[38;5;21;01m.\u001b[39;00m\u001b[38;5;21;01m_base_connection\u001b[39;00m \u001b[38;5;28;01mimport\u001b[39;00m _TYPE_BODY\n\u001b[1;32m     15\u001b[0m \u001b[38;5;28;01mfrom\u001b[39;00m \u001b[38;5;21;01m.\u001b[39;00m\u001b[38;5;21;01m_collections\u001b[39;00m \u001b[38;5;28;01mimport\u001b[39;00m HTTPHeaderDict\n\u001b[1;32m     16\u001b[0m \u001b[38;5;28;01mfrom\u001b[39;00m \u001b[38;5;21;01m.\u001b[39;00m\u001b[38;5;21;01m_version\u001b[39;00m \u001b[38;5;28;01mimport\u001b[39;00m __version__\n",
      "File \u001b[0;32m/opt/homebrew/lib/python3.11/site-packages/urllib3/_base_connection.py:7\u001b[0m\n\u001b[1;32m      5\u001b[0m \u001b[38;5;28;01mfrom\u001b[39;00m \u001b[38;5;21;01m.\u001b[39;00m\u001b[38;5;21;01mutil\u001b[39;00m\u001b[38;5;21;01m.\u001b[39;00m\u001b[38;5;21;01mconnection\u001b[39;00m \u001b[38;5;28;01mimport\u001b[39;00m _TYPE_SOCKET_OPTIONS\n\u001b[1;32m      6\u001b[0m \u001b[38;5;28;01mfrom\u001b[39;00m \u001b[38;5;21;01m.\u001b[39;00m\u001b[38;5;21;01mutil\u001b[39;00m\u001b[38;5;21;01m.\u001b[39;00m\u001b[38;5;21;01mtimeout\u001b[39;00m \u001b[38;5;28;01mimport\u001b[39;00m _DEFAULT_TIMEOUT, _TYPE_TIMEOUT\n\u001b[0;32m----> 7\u001b[0m \u001b[38;5;28;01mfrom\u001b[39;00m \u001b[38;5;21;01m.\u001b[39;00m\u001b[38;5;21;01mutil\u001b[39;00m\u001b[38;5;21;01m.\u001b[39;00m\u001b[38;5;21;01murl\u001b[39;00m \u001b[38;5;28;01mimport\u001b[39;00m Url\n\u001b[1;32m      9\u001b[0m _TYPE_BODY \u001b[38;5;241m=\u001b[39m typing\u001b[38;5;241m.\u001b[39mUnion[\u001b[38;5;28mbytes\u001b[39m, typing\u001b[38;5;241m.\u001b[39mIO[typing\u001b[38;5;241m.\u001b[39mAny], typing\u001b[38;5;241m.\u001b[39mIterable[\u001b[38;5;28mbytes\u001b[39m], \u001b[38;5;28mstr\u001b[39m]\n\u001b[1;32m     12\u001b[0m \u001b[38;5;28;01mclass\u001b[39;00m \u001b[38;5;21;01mProxyConfig\u001b[39;00m(typing\u001b[38;5;241m.\u001b[39mNamedTuple):\n",
      "File \u001b[0;32m/opt/homebrew/lib/python3.11/site-packages/urllib3/util/__init__.py:8\u001b[0m\n\u001b[1;32m      6\u001b[0m \u001b[38;5;28;01mfrom\u001b[39;00m \u001b[38;5;21;01m.\u001b[39;00m\u001b[38;5;21;01mresponse\u001b[39;00m \u001b[38;5;28;01mimport\u001b[39;00m is_fp_closed\n\u001b[1;32m      7\u001b[0m \u001b[38;5;28;01mfrom\u001b[39;00m \u001b[38;5;21;01m.\u001b[39;00m\u001b[38;5;21;01mretry\u001b[39;00m \u001b[38;5;28;01mimport\u001b[39;00m Retry\n\u001b[0;32m----> 8\u001b[0m \u001b[38;5;28;01mfrom\u001b[39;00m \u001b[38;5;21;01m.\u001b[39;00m\u001b[38;5;21;01mssl_\u001b[39;00m \u001b[38;5;28;01mimport\u001b[39;00m (\n\u001b[1;32m      9\u001b[0m     ALPN_PROTOCOLS,\n\u001b[1;32m     10\u001b[0m     IS_PYOPENSSL,\n\u001b[1;32m     11\u001b[0m     SSLContext,\n\u001b[1;32m     12\u001b[0m     assert_fingerprint,\n\u001b[1;32m     13\u001b[0m     create_urllib3_context,\n\u001b[1;32m     14\u001b[0m     resolve_cert_reqs,\n\u001b[1;32m     15\u001b[0m     resolve_ssl_version,\n\u001b[1;32m     16\u001b[0m     ssl_wrap_socket,\n\u001b[1;32m     17\u001b[0m )\n\u001b[1;32m     18\u001b[0m \u001b[38;5;28;01mfrom\u001b[39;00m \u001b[38;5;21;01m.\u001b[39;00m\u001b[38;5;21;01mtimeout\u001b[39;00m \u001b[38;5;28;01mimport\u001b[39;00m Timeout\n\u001b[1;32m     19\u001b[0m \u001b[38;5;28;01mfrom\u001b[39;00m \u001b[38;5;21;01m.\u001b[39;00m\u001b[38;5;21;01murl\u001b[39;00m \u001b[38;5;28;01mimport\u001b[39;00m Url, parse_url\n",
      "File \u001b[0;32m/opt/homebrew/lib/python3.11/site-packages/urllib3/util/ssl_.py:12\u001b[0m\n\u001b[1;32m      9\u001b[0m \u001b[38;5;28;01mfrom\u001b[39;00m \u001b[38;5;21;01mbinascii\u001b[39;00m \u001b[38;5;28;01mimport\u001b[39;00m unhexlify\n\u001b[1;32m     10\u001b[0m \u001b[38;5;28;01mfrom\u001b[39;00m \u001b[38;5;21;01mhashlib\u001b[39;00m \u001b[38;5;28;01mimport\u001b[39;00m md5, sha1, sha256\n\u001b[0;32m---> 12\u001b[0m \u001b[38;5;28;01mfrom\u001b[39;00m \u001b[38;5;21;01m.\u001b[39;00m\u001b[38;5;21;01m.\u001b[39;00m\u001b[38;5;21;01mexceptions\u001b[39;00m \u001b[38;5;28;01mimport\u001b[39;00m ProxySchemeUnsupported, SSLError\n\u001b[1;32m     13\u001b[0m \u001b[38;5;28;01mfrom\u001b[39;00m \u001b[38;5;21;01m.\u001b[39;00m\u001b[38;5;21;01murl\u001b[39;00m \u001b[38;5;28;01mimport\u001b[39;00m _BRACELESS_IPV6_ADDRZ_RE, _IPV4_RE\n\u001b[1;32m     15\u001b[0m SSLContext \u001b[38;5;241m=\u001b[39m \u001b[38;5;28;01mNone\u001b[39;00m\n",
      "\u001b[0;31mImportError\u001b[0m: cannot import name 'ProxySchemeUnsupported' from 'urllib3.exceptions' (/opt/homebrew/lib/python3.11/site-packages/urllib3/exceptions.py)"
     ]
    }
   ],
   "source": [
    "import requests\n",
    "url = \"https://10.10.20.48:443/restconf/data/Cisco-IOS-XE-native:native/interface/Loopback/\"\n",
    "headers = {'Content-Type': 'application/yang-data+json', 'Accept': 'application/yang-data+json'} \n",
    "response = requests.get(url, auth=('developer', 'C1sco12345'), headers=headers, verify=False)\n",
    "print(response.text)"
   ]
  }
 ],
 "metadata": {
  "kernelspec": {
   "display_name": "Python 3",
   "language": "python",
   "name": "python3"
  },
  "language_info": {
   "codemirror_mode": {
    "name": "ipython",
    "version": 3
   },
   "file_extension": ".py",
   "mimetype": "text/x-python",
   "name": "python",
   "nbconvert_exporter": "python",
   "pygments_lexer": "ipython3",
   "version": "3.11.2"
  }
 },
 "nbformat": 4,
 "nbformat_minor": 2
}
